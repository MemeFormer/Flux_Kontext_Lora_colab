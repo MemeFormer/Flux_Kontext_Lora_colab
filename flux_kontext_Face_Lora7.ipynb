{
  "nbformat": 4,
  "nbformat_minor": 0,
  "metadata": {
    "colab": {
      "provenance": [],
      "authorship_tag": "ABX9TyNB++6ddAuW+8lXasJS5Rqc",
      "include_colab_link": true
    },
    "kernelspec": {
      "name": "python3",
      "display_name": "Python 3"
    },
    "language_info": {
      "name": "python"
    }
  },
  "cells": [
    {
      "cell_type": "markdown",
      "metadata": {
        "id": "view-in-github",
        "colab_type": "text"
      },
      "source": [
        "<a href=\"https://colab.research.google.com/github/MemeFormer/Flux_Kontext_Lora_colab/blob/main/flux_kontext_Face_Lora7.ipynb\" target=\"_parent\"><img src=\"https://colab.research.google.com/assets/colab-badge.svg\" alt=\"Open In Colab\"/></a>"
      ]
    },
    {
      "cell_type": "code",
      "execution_count": null,
      "metadata": {
        "colab": {
          "base_uri": "https://localhost:8080/"
        },
        "id": "DgjhKpzoljkE",
        "outputId": "ec89e4c0-350a-48ee-99a3-1f435a771750"
      },
      "outputs": [
        {
          "output_type": "stream",
          "name": "stdout",
          "text": [
            "Mounted at /content/drive\n"
          ]
        }
      ],
      "source": [
        "from google.colab import drive\n",
        "drive.mount('/content/drive')"
      ]
    },
    {
      "cell_type": "code",
      "source": [
        "%cd /content/\n",
        "!git clone https://huggingface.co/spaces/ginigen/Flux-Kontext-FaceLORA"
      ],
      "metadata": {
        "id": "uY_vuV8rmKkQ"
      },
      "execution_count": null,
      "outputs": []
    },
    {
      "cell_type": "code",
      "source": [
        "# Change directory into the Gradio app's folder\n",
        "%cd /content/Flux-Kontext-FaceLORA\n",
        "\n",
        "# Install all necessary Python libraries\n",
        "!pip install -r requirements.txt"
      ],
      "metadata": {
        "id": "1H73WAZ7mN2_"
      },
      "execution_count": null,
      "outputs": []
    },
    {
      "cell_type": "code",
      "source": [
        "from google.colab import drive\n",
        "drive.mount('/content/drive')"
      ],
      "metadata": {
        "id": "3OOVdXd9mOqv"
      },
      "execution_count": null,
      "outputs": []
    },
    {
      "cell_type": "code",
      "source": [
        "%cd /content/\n",
        "!git clone https://huggingface.co/spaces/ginigen/Flux-Kontext-FaceLORA"
      ],
      "metadata": {
        "id": "j_MmM8D1mPlE"
      },
      "execution_count": null,
      "outputs": []
    }
  ]
}